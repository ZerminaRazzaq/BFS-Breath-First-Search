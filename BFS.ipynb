{
  "nbformat": 4,
  "nbformat_minor": 0,
  "metadata": {
    "colab": {
      "name": "BFS.ipynb",
      "provenance": []
    },
    "kernelspec": {
      "name": "python3",
      "display_name": "Python 3"
    }
  },
  "cells": [
    {
      "cell_type": "code",
      "metadata": {
        "id": "raoRMUU4-iev"
      },
      "source": [
        "graph = {\r\n",
        "  '1' : ['2', '3'],\r\n",
        "  '2' : ['4', '5'],\r\n",
        "  '3' : ['6', '7'],\r\n",
        "  '4' : ['8'],\r\n",
        "  '5' : [],\r\n",
        "  '6' : [],\r\n",
        "  '7' : [],\r\n",
        "  '8' : []\r\n",
        "}\r\n",
        "\r\n",
        "visited = [] # List to keep track of visited nodes.\r\n",
        "queue = []     #Initialize a queue\r\n",
        "# function that takes three parameters\r\n",
        "def bfs(visited, graph, node):\r\n",
        "  # it append the visted nodes in the list of visited(visited)\r\n",
        "  visited.append(node)\r\n",
        "  # add the visited node in queue\r\n",
        "  queue.append(node)\r\n",
        "\r\n",
        "  while queue:\r\n",
        "    # dequeue the first element of the queue n saved it in the variable\r\n",
        "    s = queue.pop(0)\r\n",
        "    # print that on screen\r\n",
        "    print (s, end = \" \")\r\n",
        "    # now check neighbour\r\n",
        "    for neighbour in graph[s]:\r\n",
        "      if neighbour not in visited:\r\n",
        "        visited.append(neighbour)\r\n",
        "        queue.append(neighbour)\r\n",
        "# Driver Code\r\n",
        "bfs(visited, graph, '1')\r\n",
        "\r\n",
        "graph = {\r\n",
        "  'A' : ['B','C'],\r\n",
        "  'B' : ['D', 'E'],\r\n",
        "  'C' : ['F'],\r\n",
        "  'D' : [],\r\n",
        "  'E' : ['F'],\r\n",
        "  'F' : []\r\n",
        "}\r\n",
        "\r\n",
        "visited = [] # List to keep track of visited nodes.\r\n",
        "queue = []     #Initialize a queue\r\n",
        "# function that takes three parameters\r\n",
        "def bfs(visited, graph, node):\r\n",
        "  # it append the visted nodes in the list of visited(visited)\r\n",
        "  visited.append(node)\r\n",
        "  # add the visited node in queue\r\n",
        "  queue.append(node)\r\n",
        "\r\n",
        "  while queue:\r\n",
        "    # dequeue the first element of the queue n saved it in the variable\r\n",
        "    s = queue.pop(0)\r\n",
        "    # print that on screen\r\n",
        "    print (s, end = \" \")\r\n",
        "    # now check neighbour\r\n",
        "    for neighbour in graph[s]:\r\n",
        "      if neighbour not in visited:\r\n",
        "        visited.append(neighbour)\r\n",
        "        queue.append(neighbour)\r\n",
        "# Driver Code\r\n",
        "bfs(visited, graph, 'A')"
      ],
      "execution_count": null,
      "outputs": []
    }
  ]
}